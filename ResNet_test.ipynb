{
  "nbformat": 4,
  "nbformat_minor": 0,
  "metadata": {
    "colab": {
      "name": "ResNet_test.ipynb",
      "provenance": [],
      "collapsed_sections": []
    },
    "kernelspec": {
      "name": "python3",
      "display_name": "Python 3"
    },
    "language_info": {
      "name": "python"
    },
    "accelerator": "GPU",
    "gpuClass": "standard"
  },
  "cells": [
    {
      "cell_type": "code",
      "execution_count": 1,
      "metadata": {
        "id": "a7z112Gmnot8"
      },
      "outputs": [],
      "source": [
        "import numpy as np\n",
        "import tensorflow as tf\n",
        "from tensorflow import keras"
      ]
    },
    {
      "cell_type": "code",
      "source": [
        "fashion_mnist = keras.datasets.fashion_mnist.load_data()\n",
        "(X_train, y_train), (X_test, y_test) = fashion_mnist\n",
        "\n",
        "X_train = X_train.astype('float32')/255\n",
        "X_test = X_test.astype('float32')/255\n",
        "\n",
        "X_train = X_train.reshape(-1,28,28,1)"
      ],
      "metadata": {
        "colab": {
          "base_uri": "https://localhost:8080/"
        },
        "id": "KGJJi09ynrVn",
        "outputId": "1792cd60-792d-4bcd-9745-3e0f31e45c30"
      },
      "execution_count": 2,
      "outputs": [
        {
          "output_type": "stream",
          "name": "stdout",
          "text": [
            "Downloading data from https://storage.googleapis.com/tensorflow/tf-keras-datasets/train-labels-idx1-ubyte.gz\n",
            "32768/29515 [=================================] - 0s 0us/step\n",
            "40960/29515 [=========================================] - 0s 0us/step\n",
            "Downloading data from https://storage.googleapis.com/tensorflow/tf-keras-datasets/train-images-idx3-ubyte.gz\n",
            "26427392/26421880 [==============================] - 0s 0us/step\n",
            "26435584/26421880 [==============================] - 0s 0us/step\n",
            "Downloading data from https://storage.googleapis.com/tensorflow/tf-keras-datasets/t10k-labels-idx1-ubyte.gz\n",
            "16384/5148 [===============================================================================================] - 0s 0us/step\n",
            "Downloading data from https://storage.googleapis.com/tensorflow/tf-keras-datasets/t10k-images-idx3-ubyte.gz\n",
            "4423680/4422102 [==============================] - 0s 0us/step\n",
            "4431872/4422102 [==============================] - 0s 0us/step\n"
          ]
        }
      ]
    },
    {
      "cell_type": "code",
      "source": [
        "from functools import partial"
      ],
      "metadata": {
        "id": "zpaaTvsVnrX_"
      },
      "execution_count": 3,
      "outputs": []
    },
    {
      "cell_type": "code",
      "source": [
        "DefaultConv2D = partial(keras.layers.Conv2D,strides=1,padding=\"SAME\",kernel_size=3,use_bias=False)"
      ],
      "metadata": {
        "id": "mEyHklwNoHBP"
      },
      "execution_count": 6,
      "outputs": []
    },
    {
      "cell_type": "code",
      "source": [
        "# Creating Residual Block\n",
        "class ResidualUnit(keras.layers.Layer):\n",
        "    def __init__(self,filters,strides=1,activation='relu',**kwargs):\n",
        "        super().__init__(**kwargs)\n",
        "        self.activation = keras.activations.get(activation)\n",
        "        self.main_layers = [DefaultConv2D(filters,strides=strides),keras.layers.BatchNormalization(),self.activation,\n",
        "                            DefaultConv2D(filters),keras.layers.BatchNormalization()]\n",
        "        self.skip_layers = []\n",
        "        if strides > 1:\n",
        "            self.skip_layers = [DefaultConv2D(filters,kernel_size=1,strides=strides),keras.layers.BatchNormalization()]\n",
        "        \n",
        "    def call(self,inputs):\n",
        "        Z = inputs\n",
        "        for layers in self.main_layers:\n",
        "            Z = layers(Z)\n",
        "        skip_Z = inputs\n",
        "        for layer in self.skip_layers:\n",
        "            skip_Z = layer(skip_Z)\n",
        "            \n",
        "        return self.activation(Z+skip_Z)"
      ],
      "metadata": {
        "id": "F_dXzvr1nraN"
      },
      "execution_count": 7,
      "outputs": []
    },
    {
      "cell_type": "code",
      "source": [
        "model = keras.models.Sequential()\n",
        "#Conv layer\n",
        "model.add(DefaultConv2D(64,kernel_size=7,strides=2,input_shape=[28,28,1]))\n",
        "model.add(keras.layers.BatchNormalization())\n",
        "model.add(keras.layers.Activation('relu'))\n",
        "model.add(keras.layers.MaxPooling2D(pool_size=3,strides=2,padding=\"SAME\"))\n",
        "#Deep Residual Network\n",
        "prev_filters = 64\n",
        "for filters in [64]*2 + [128]*2 + [256]*2 + [512]*2 :\n",
        "    strides = 1 if filters == prev_filters else 2\n",
        "    model.add(ResidualUnit(filters,strides=strides))\n",
        "    prev_filters = filters\n",
        "model.add(keras.layers.GlobalAvgPool2D())\n",
        "model.add(keras.layers.Flatten())\n",
        "model.add(keras.layers.Dense(10,activation=\"softmax\"))"
      ],
      "metadata": {
        "id": "8I6vL4Sjnrci"
      },
      "execution_count": 8,
      "outputs": []
    },
    {
      "cell_type": "code",
      "source": [
        "model.compile(loss='sparse_categorical_crossentropy',optimizer='sgd',metrics=['accuracy'])"
      ],
      "metadata": {
        "id": "VYavkwtonrev"
      },
      "execution_count": 9,
      "outputs": []
    },
    {
      "cell_type": "code",
      "source": [
        "model.fit(X_train,y_train,epochs=15)"
      ],
      "metadata": {
        "colab": {
          "base_uri": "https://localhost:8080/"
        },
        "id": "D_fRs4X2nrgl",
        "outputId": "483c97f1-cf03-41d1-9ed0-123bd73fa591"
      },
      "execution_count": 10,
      "outputs": [
        {
          "output_type": "stream",
          "name": "stdout",
          "text": [
            "Epoch 1/15\n",
            "1875/1875 [==============================] - 45s 17ms/step - loss: 0.4789 - accuracy: 0.8297\n",
            "Epoch 2/15\n",
            "1875/1875 [==============================] - 32s 17ms/step - loss: 0.3041 - accuracy: 0.8867\n",
            "Epoch 3/15\n",
            "1875/1875 [==============================] - 32s 17ms/step - loss: 0.2556 - accuracy: 0.9052\n",
            "Epoch 4/15\n",
            "1875/1875 [==============================] - 33s 17ms/step - loss: 0.2261 - accuracy: 0.9155\n",
            "Epoch 5/15\n",
            "1875/1875 [==============================] - 33s 17ms/step - loss: 0.2013 - accuracy: 0.9238\n",
            "Epoch 6/15\n",
            "1875/1875 [==============================] - 32s 17ms/step - loss: 0.1815 - accuracy: 0.9306\n",
            "Epoch 7/15\n",
            "1875/1875 [==============================] - 32s 17ms/step - loss: 0.1621 - accuracy: 0.9389\n",
            "Epoch 8/15\n",
            "1875/1875 [==============================] - 33s 17ms/step - loss: 0.1458 - accuracy: 0.9440\n",
            "Epoch 9/15\n",
            "1875/1875 [==============================] - 33s 18ms/step - loss: 0.1314 - accuracy: 0.9500\n",
            "Epoch 10/15\n",
            "1875/1875 [==============================] - 33s 17ms/step - loss: 0.1214 - accuracy: 0.9536\n",
            "Epoch 11/15\n",
            "1875/1875 [==============================] - 33s 17ms/step - loss: 0.1103 - accuracy: 0.9578\n",
            "Epoch 12/15\n",
            "1875/1875 [==============================] - 33s 17ms/step - loss: 0.0993 - accuracy: 0.9618\n",
            "Epoch 13/15\n",
            "1875/1875 [==============================] - 33s 18ms/step - loss: 0.0871 - accuracy: 0.9671\n",
            "Epoch 14/15\n",
            "1875/1875 [==============================] - 33s 17ms/step - loss: 0.0843 - accuracy: 0.9682\n",
            "Epoch 15/15\n",
            "1875/1875 [==============================] - 33s 17ms/step - loss: 0.0751 - accuracy: 0.9718\n"
          ]
        },
        {
          "output_type": "execute_result",
          "data": {
            "text/plain": [
              "<keras.callbacks.History at 0x7f998a61ee90>"
            ]
          },
          "metadata": {},
          "execution_count": 10
        }
      ]
    },
    {
      "cell_type": "code",
      "source": [
        "model.summary()"
      ],
      "metadata": {
        "colab": {
          "base_uri": "https://localhost:8080/"
        },
        "id": "IW1cYz2Mnrix",
        "outputId": "87b0268f-2bb1-45cc-cefd-3e3c39432c4c"
      },
      "execution_count": 11,
      "outputs": [
        {
          "output_type": "stream",
          "name": "stdout",
          "text": [
            "Model: \"sequential_1\"\n",
            "_________________________________________________________________\n",
            " Layer (type)                Output Shape              Param #   \n",
            "=================================================================\n",
            " conv2d (Conv2D)             (None, 14, 14, 64)        3136      \n",
            "                                                                 \n",
            " batch_normalization (BatchN  (None, 14, 14, 64)       256       \n",
            " ormalization)                                                   \n",
            "                                                                 \n",
            " activation (Activation)     (None, 14, 14, 64)        0         \n",
            "                                                                 \n",
            " max_pooling2d (MaxPooling2D  (None, 7, 7, 64)         0         \n",
            " )                                                               \n",
            "                                                                 \n",
            " residual_unit (ResidualUnit  (None, 7, 7, 64)         74240     \n",
            " )                                                               \n",
            "                                                                 \n",
            " residual_unit_1 (ResidualUn  (None, 7, 7, 64)         74240     \n",
            " it)                                                             \n",
            "                                                                 \n",
            " residual_unit_2 (ResidualUn  (None, 4, 4, 128)        230912    \n",
            " it)                                                             \n",
            "                                                                 \n",
            " residual_unit_3 (ResidualUn  (None, 4, 4, 128)        295936    \n",
            " it)                                                             \n",
            "                                                                 \n",
            " residual_unit_4 (ResidualUn  (None, 2, 2, 256)        920576    \n",
            " it)                                                             \n",
            "                                                                 \n",
            " residual_unit_5 (ResidualUn  (None, 2, 2, 256)        1181696   \n",
            " it)                                                             \n",
            "                                                                 \n",
            " residual_unit_6 (ResidualUn  (None, 1, 1, 512)        3676160   \n",
            " it)                                                             \n",
            "                                                                 \n",
            " residual_unit_7 (ResidualUn  (None, 1, 1, 512)        4722688   \n",
            " it)                                                             \n",
            "                                                                 \n",
            " global_average_pooling2d (G  (None, 512)              0         \n",
            " lobalAveragePooling2D)                                          \n",
            "                                                                 \n",
            " flatten (Flatten)           (None, 512)               0         \n",
            "                                                                 \n",
            " dense (Dense)               (None, 10)                5130      \n",
            "                                                                 \n",
            "=================================================================\n",
            "Total params: 11,184,970\n",
            "Trainable params: 11,175,370\n",
            "Non-trainable params: 9,600\n",
            "_________________________________________________________________\n"
          ]
        }
      ]
    },
    {
      "cell_type": "code",
      "source": [
        ""
      ],
      "metadata": {
        "id": "XCQtcV9AnrlO"
      },
      "execution_count": null,
      "outputs": []
    },
    {
      "cell_type": "code",
      "source": [
        ""
      ],
      "metadata": {
        "id": "LU-RSeesnrnz"
      },
      "execution_count": null,
      "outputs": []
    },
    {
      "cell_type": "code",
      "source": [
        ""
      ],
      "metadata": {
        "id": "a6kZ2RZhnrqR"
      },
      "execution_count": null,
      "outputs": []
    },
    {
      "cell_type": "code",
      "source": [
        ""
      ],
      "metadata": {
        "id": "vs3xJHJUnrtF"
      },
      "execution_count": null,
      "outputs": []
    },
    {
      "cell_type": "code",
      "source": [
        ""
      ],
      "metadata": {
        "id": "OgjODJfxnrvl"
      },
      "execution_count": null,
      "outputs": []
    },
    {
      "cell_type": "code",
      "source": [
        ""
      ],
      "metadata": {
        "id": "iDRouqIUnryM"
      },
      "execution_count": null,
      "outputs": []
    }
  ]
}